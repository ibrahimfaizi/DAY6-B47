{
 "cells": [
  {
   "cell_type": "code",
   "execution_count": null,
   "id": "2a6bee01",
   "metadata": {},
   "outputs": [],
   "source": [
    "DAY6-B47 PRACTISE"
   ]
  },
  {
   "cell_type": "code",
   "execution_count": null,
   "id": "cee2f6e7",
   "metadata": {},
   "outputs": [],
   "source": []
  },
  {
   "cell_type": "code",
   "execution_count": 1,
   "id": "8b5941c2",
   "metadata": {},
   "outputs": [],
   "source": [
    "students = ['naser', 'adil','rafi', 'umair', 'nadeem', 'waseem']"
   ]
  },
  {
   "cell_type": "code",
   "execution_count": 2,
   "id": "d62adc9c",
   "metadata": {},
   "outputs": [
    {
     "name": "stdout",
     "output_type": "stream",
     "text": [
      "['naser', 'adil', 'rafi', 'umair', 'nadeem', 'waseem']\n"
     ]
    }
   ],
   "source": [
    "print(students)"
   ]
  },
  {
   "cell_type": "code",
   "execution_count": 12,
   "id": "b1f59bc2",
   "metadata": {},
   "outputs": [
    {
     "data": {
      "text/plain": [
       "list"
      ]
     },
     "execution_count": 12,
     "metadata": {},
     "output_type": "execute_result"
    }
   ],
   "source": [
    "type(students)"
   ]
  },
  {
   "cell_type": "code",
   "execution_count": 15,
   "id": "76999622",
   "metadata": {},
   "outputs": [
    {
     "name": "stdout",
     "output_type": "stream",
     "text": [
      "keep up the good work, Naser\n"
     ]
    }
   ],
   "source": [
    "print(f\"keep up the good work, {students[0].title()}\")"
   ]
  },
  {
   "cell_type": "code",
   "execution_count": 16,
   "id": "2b9a652b",
   "metadata": {},
   "outputs": [
    {
     "name": "stdout",
     "output_type": "stream",
     "text": [
      "keep up the good work, Adil\n"
     ]
    }
   ],
   "source": [
    "print(f\"keep up the good work, {students[1].title()}\")"
   ]
  },
  {
   "cell_type": "code",
   "execution_count": null,
   "id": "a3059777",
   "metadata": {},
   "outputs": [],
   "source": []
  },
  {
   "cell_type": "code",
   "execution_count": null,
   "id": "066ef21b",
   "metadata": {},
   "outputs": [],
   "source": [
    "Introduction to looping statements"
   ]
  },
  {
   "cell_type": "code",
   "execution_count": null,
   "id": "410d3f81",
   "metadata": {},
   "outputs": [],
   "source": [
    "# Syntax of a for loop"
   ]
  },
  {
   "cell_type": "code",
   "execution_count": null,
   "id": "2bc020b2",
   "metadata": {},
   "outputs": [],
   "source": [
    "for tempvar in mainvar:\n",
    "    print(tempvar)"
   ]
  },
  {
   "cell_type": "code",
   "execution_count": null,
   "id": "f6611d60",
   "metadata": {},
   "outputs": [],
   "source": []
  },
  {
   "cell_type": "code",
   "execution_count": 17,
   "id": "bfa0de90",
   "metadata": {},
   "outputs": [
    {
     "name": "stdout",
     "output_type": "stream",
     "text": [
      "keep up the good work, Naser\n",
      "keep up the good work, Adil\n",
      "keep up the good work, Rafi\n",
      "keep up the good work, Umair\n",
      "keep up the good work, Nadeem\n",
      "keep up the good work, Waseem\n"
     ]
    }
   ],
   "source": [
    "for x in students:\n",
    "    print(f\"keep up the good work, {x.title()}\")"
   ]
  },
  {
   "cell_type": "code",
   "execution_count": null,
   "id": "5395ff76",
   "metadata": {},
   "outputs": [],
   "source": []
  },
  {
   "cell_type": "code",
   "execution_count": 19,
   "id": "ea523194",
   "metadata": {},
   "outputs": [
    {
     "name": "stdout",
     "output_type": "stream",
     "text": [
      "keep up the good work, Naser\n",
      "keep up the good work, Adil\n",
      "keep up the good work, Rafi\n",
      "keep up the good work, Umair\n",
      "keep up the good work, Nadeem\n",
      "keep up the good work, Waseem\n"
     ]
    }
   ],
   "source": [
    "for a in students:\n",
    "    print(f\"keep up the good work, {a.title()}\")"
   ]
  },
  {
   "cell_type": "code",
   "execution_count": null,
   "id": "019ee5e0",
   "metadata": {},
   "outputs": [],
   "source": []
  },
  {
   "cell_type": "code",
   "execution_count": 20,
   "id": "b9c8b727",
   "metadata": {},
   "outputs": [
    {
     "name": "stdout",
     "output_type": "stream",
     "text": [
      "keep up the good work, Naser\n",
      " I will be looking forward to receive your practise files of today, Naser\n",
      "keep up the good work, Adil\n",
      " I will be looking forward to receive your practise files of today, Adil\n",
      "keep up the good work, Rafi\n",
      " I will be looking forward to receive your practise files of today, Rafi\n",
      "keep up the good work, Umair\n",
      " I will be looking forward to receive your practise files of today, Umair\n",
      "keep up the good work, Nadeem\n",
      " I will be looking forward to receive your practise files of today, Nadeem\n",
      "keep up the good work, Waseem\n",
      " I will be looking forward to receive your practise files of today, Waseem\n"
     ]
    }
   ],
   "source": [
    "for a in students:\n",
    "    print(f\"keep up the good work, {a.title()}\")\n",
    "    print(f\" I will be looking forward to receive your practise files of today, {a.title()}\")"
   ]
  },
  {
   "cell_type": "code",
   "execution_count": null,
   "id": "03f091b8",
   "metadata": {},
   "outputs": [],
   "source": []
  },
  {
   "cell_type": "code",
   "execution_count": 22,
   "id": "3b62c792",
   "metadata": {},
   "outputs": [
    {
     "name": "stdout",
     "output_type": "stream",
     "text": [
      "keep up the good work, Naser\n",
      " I will be looking forward to receive your practise files of today, Naser.\n",
      "\n",
      "keep up the good work, Adil\n",
      " I will be looking forward to receive your practise files of today, Adil.\n",
      "\n",
      "keep up the good work, Rafi\n",
      " I will be looking forward to receive your practise files of today, Rafi.\n",
      "\n",
      "keep up the good work, Umair\n",
      " I will be looking forward to receive your practise files of today, Umair.\n",
      "\n",
      "keep up the good work, Nadeem\n",
      " I will be looking forward to receive your practise files of today, Nadeem.\n",
      "\n",
      "keep up the good work, Waseem\n",
      " I will be looking forward to receive your practise files of today, Waseem.\n",
      "\n"
     ]
    }
   ],
   "source": [
    "for a in students:\n",
    "    print(f\"keep up the good work, {a.title()}\")\n",
    "    print(f\" I will be looking forward to receive your practise files of today, {a.title()}.\\n\")"
   ]
  },
  {
   "cell_type": "code",
   "execution_count": null,
   "id": "d5d2325e",
   "metadata": {},
   "outputs": [],
   "source": []
  },
  {
   "cell_type": "code",
   "execution_count": 24,
   "id": "4d2f6cbe",
   "metadata": {},
   "outputs": [
    {
     "name": "stdout",
     "output_type": "stream",
     "text": [
      "keep up the good work, Naser\n",
      " I will be looking forward to receive your practise files of today, Naser.\n",
      "\n",
      "keep up the good work, Adil\n",
      " I will be looking forward to receive your practise files of today, Adil.\n",
      "\n",
      "keep up the good work, Rafi\n",
      " I will be looking forward to receive your practise files of today, Rafi.\n",
      "\n",
      "keep up the good work, Umair\n",
      " I will be looking forward to receive your practise files of today, Umair.\n",
      "\n",
      "keep up the good work, Nadeem\n",
      " I will be looking forward to receive your practise files of today, Nadeem.\n",
      "\n",
      "keep up the good work, Waseem\n",
      " I will be looking forward to receive your practise files of today, Waseem.\n",
      "\n",
      "Thankyou all for joining today in the session\n"
     ]
    }
   ],
   "source": [
    "for a in students:\n",
    "    print(f\"keep up the good work, {a.title()}\")\n",
    "    print(f\" I will be looking forward to receive your practise files of today, {a.title()}.\\n\")\n",
    "print(f\"Thankyou all for joining today in the session\")"
   ]
  },
  {
   "cell_type": "code",
   "execution_count": null,
   "id": "9ccf1d04",
   "metadata": {},
   "outputs": [],
   "source": []
  },
  {
   "cell_type": "code",
   "execution_count": null,
   "id": "7fc18041",
   "metadata": {},
   "outputs": [],
   "source": [
    "Introduction to slicing "
   ]
  },
  {
   "cell_type": "code",
   "execution_count": null,
   "id": "6f88f7cb",
   "metadata": {},
   "outputs": [],
   "source": [
    "#Syntax of slicing "
   ]
  },
  {
   "cell_type": "code",
   "execution_count": null,
   "id": "c2608195",
   "metadata": {},
   "outputs": [],
   "source": [
    "variable(startvalue:stopvalue:stepcount)"
   ]
  },
  {
   "cell_type": "code",
   "execution_count": null,
   "id": "579385cb",
   "metadata": {},
   "outputs": [],
   "source": []
  },
  {
   "cell_type": "code",
   "execution_count": 25,
   "id": "c2d05631",
   "metadata": {},
   "outputs": [
    {
     "name": "stdout",
     "output_type": "stream",
     "text": [
      "['naser']\n"
     ]
    }
   ],
   "source": [
    "print(students [0:1])"
   ]
  },
  {
   "cell_type": "code",
   "execution_count": 26,
   "id": "41d1bb6a",
   "metadata": {},
   "outputs": [
    {
     "name": "stdout",
     "output_type": "stream",
     "text": [
      "['naser', 'adil']\n"
     ]
    }
   ],
   "source": [
    "print(students [0:2])"
   ]
  },
  {
   "cell_type": "code",
   "execution_count": 27,
   "id": "91d677dc",
   "metadata": {},
   "outputs": [
    {
     "name": "stdout",
     "output_type": "stream",
     "text": [
      "['adil']\n"
     ]
    }
   ],
   "source": [
    "print(students [1:2])"
   ]
  },
  {
   "cell_type": "code",
   "execution_count": 28,
   "id": "72260073",
   "metadata": {},
   "outputs": [
    {
     "name": "stdout",
     "output_type": "stream",
     "text": [
      "['rafi']\n"
     ]
    }
   ],
   "source": [
    "print(students [2:3])"
   ]
  },
  {
   "cell_type": "code",
   "execution_count": 29,
   "id": "c44a75e8",
   "metadata": {},
   "outputs": [
    {
     "name": "stdout",
     "output_type": "stream",
     "text": [
      "['rafi', 'umair']\n"
     ]
    }
   ],
   "source": [
    "print(students [2:4])"
   ]
  },
  {
   "cell_type": "code",
   "execution_count": 30,
   "id": "56e5a3dc",
   "metadata": {},
   "outputs": [
    {
     "name": "stdout",
     "output_type": "stream",
     "text": [
      "['nadeem', 'waseem']\n"
     ]
    }
   ],
   "source": [
    "print(students [4:6])"
   ]
  },
  {
   "cell_type": "code",
   "execution_count": null,
   "id": "6b0cc94d",
   "metadata": {},
   "outputs": [],
   "source": []
  }
 ],
 "metadata": {
  "kernelspec": {
   "display_name": "Python 3",
   "language": "python",
   "name": "python3"
  },
  "language_info": {
   "codemirror_mode": {
    "name": "ipython",
    "version": 3
   },
   "file_extension": ".py",
   "mimetype": "text/x-python",
   "name": "python",
   "nbconvert_exporter": "python",
   "pygments_lexer": "ipython3",
   "version": "3.8.8"
  }
 },
 "nbformat": 4,
 "nbformat_minor": 5
}
